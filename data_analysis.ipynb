{
 "cells": [
  {
   "cell_type": "markdown",
   "metadata": {},
   "source": [
    "# Data analysis in Python using built-in types\n",
    "\n",
    "Date: June 22, 2019\n",
    "\n",
    "-----\n",
    "\n",
    "## Learning Objectives\n",
    "\n",
    "* Using the command line to:\n",
    "    + make directories\n",
    "    + download files from internet\n",
    "    + unzip `.zip` files\n",
    "* Import a `.csv` file without [`pandas`](https://pandas.pydata.org/about.html) or [`numpy`](https://www.numpy.org/)\n",
    "* Perform data analysis using built-in types\n",
    "    + working with dates\n",
    "    + sorting dictionaries\n",
    "    + for loops and list comprehension\n",
    "    + visualizing data with [`matplotlib`](https://matplotlib.org/index.html)"
   ]
  },
  {
   "cell_type": "markdown",
   "metadata": {},
   "source": [
    "## Inspect Files in current working directory"
   ]
  },
  {
   "cell_type": "code",
   "execution_count": null,
   "metadata": {},
   "outputs": [],
   "source": [
    "!ls"
   ]
  },
  {
   "cell_type": "markdown",
   "metadata": {},
   "source": [
    "## Create a new `raw_data` directory"
   ]
  },
  {
   "cell_type": "code",
   "execution_count": null,
   "metadata": {},
   "outputs": [],
   "source": [
    "!mkdir raw_data"
   ]
  },
  {
   "cell_type": "markdown",
   "metadata": {},
   "source": [
    "Let's reinspect our working directory. By typing `ls -l`, we are getting more information about all files and folders such as when things were created."
   ]
  },
  {
   "cell_type": "code",
   "execution_count": null,
   "metadata": {},
   "outputs": [],
   "source": [
    "!ls -l"
   ]
  },
  {
   "cell_type": "markdown",
   "metadata": {},
   "source": [
    "## Install Homebrew\n",
    "\n",
    "[`homebrew`](https://brew.sh/) is the package manager for MacOS. This tutorial assumes that you have it installed on your machine.\n",
    "\n",
    "*If not, please uncomment and run the cell below to install `homebrew`.*"
   ]
  },
  {
   "cell_type": "code",
   "execution_count": null,
   "metadata": {},
   "outputs": [],
   "source": [
    "#/usr/bin/ruby -e \"$(curl -fsSL https://raw.githubusercontent.com/Homebrew/install/master/install)\""
   ]
  },
  {
   "cell_type": "markdown",
   "metadata": {},
   "source": [
    "## Download necessary data\n",
    "\n",
    "Let's download [King County, WA property sales data](https://info.kingcounty.gov/assessor/DataDownload/default.aspx) into our newly created `raw_data` directory. We'll be using the [`wget`](https://www.gnu.org/software/wget/) package to download local copies of files from the Internet. \n",
    "\n",
    "The default directory is the current working directory so we need to specify where `wget` should place the file via the `-P` flag.\n",
    "\n",
    "```\n",
    "# <> are placeholders so do not include them in your commands\n",
    "wget <url> -P <file path>\n",
    "```\n",
    "\n",
    "*If you don't have `wget`, uncomment the cell below to have `brew` install it for you.*"
   ]
  },
  {
   "cell_type": "code",
   "execution_count": 2,
   "metadata": {},
   "outputs": [
    {
     "name": "stdout",
     "output_type": "stream",
     "text": [
      "Updating Homebrew...\n",
      "\u001b[34m==>\u001b[0m \u001b[1mAuto-updated Homebrew!\u001b[0m\n",
      "Updated 2 taps (homebrew/core and homebrew/cask).\n",
      "\u001b[34m==>\u001b[0m \u001b[1mUpdated Formulae\u001b[0m\n",
      "aliyun-cli                               json-fortran\n",
      "angular-cli                              jvgrep\n",
      "autorest                                 latexml\n",
      "cfn-lint                                 ldc\n",
      "circleci                                 librealsense\n",
      "cointop                                  libuv\n",
      "consul                                   minio\n",
      "convox                                   minio-mc\n",
      "cql                                      minizinc\n",
      "cromwell                                 nave\n",
      "datetime-fortran                         node\n",
      "dehydrated                               noti\n",
      "devspace                                 orc-tools\n",
      "dhall-json                               pdf2htmlex\n",
      "docker                                   pgbadger\n",
      "docker-completion                        procs\n",
      "drone-cli                                pulumi\n",
      "emscripten                               reattach-to-user-namespace\n",
      "exploitdb                                riemann\n",
      "faas-cli                                 root\n",
      "firebase-cli                             sccache\n",
      "fluxctl                                  serverless\n",
      "futhark                                  ship\n",
      "gitlab-runner                            spirv-cross\n",
      "glooctl                                  stellar-core\n",
      "gnu-getopt                               swagger-codegen@2\n",
      "gpac                                     telegraf\n",
      "grafana                                  ttyd\n",
      "grakn                                    vagrant-completion\n",
      "harfbuzz                                 vfuse\n",
      "haskell-stack                            vim\n",
      "helmsman                                 vulkan-headers\n",
      "hlint                                    wla-dx\n",
      "homeassistant-cli                        xcodegen\n",
      "imagemagick                              yarn\n",
      "imagemagick@6                            youtube-dl\n",
      "istioctl\n",
      "\n",
      "\u001b[32m==>\u001b[0m \u001b[1mInstalling dependencies for wget: \u001b[32mgettext\u001b[39m, \u001b[32mlibunistring\u001b[39m, \u001b[32mlibidn2\u001b[39m and \u001b[32mopenssl\u001b[39m\u001b[0m\n",
      "\u001b[32m==>\u001b[0m \u001b[1mInstalling wget dependency: \u001b[32mgettext\u001b[39m\u001b[0m\n",
      "\u001b[34m==>\u001b[0m \u001b[1mDownloading https://homebrew.bintray.com/bottles/gettext-0.20.1.mojave.bottl\u001b[0m\n",
      "\u001b[34m==>\u001b[0m \u001b[1mDownloading from https://akamai.bintray.com/fa/fa2096f80238b8f4d9f3724d52662\u001b[0m\n",
      "######################################################################## 100.0%\n",
      "\u001b[34m==>\u001b[0m \u001b[1mPouring gettext-0.20.1.mojave.bottle.tar.gz\u001b[0m\n",
      "\u001b[34m==>\u001b[0m \u001b[1mCaveats\u001b[0m\n",
      "gettext is keg-only, which means it was not symlinked into /usr/local,\n",
      "because macOS provides the BSD gettext library & some software gets confused if both are in the library path.\n",
      "\n",
      "If you need to have gettext first in your PATH run:\n",
      "  echo 'export PATH=\"/usr/local/opt/gettext/bin:$PATH\"' >> ~/.bash_profile\n",
      "\n",
      "For compilers to find gettext you may need to set:\n",
      "  export LDFLAGS=\"-L/usr/local/opt/gettext/lib\"\n",
      "  export CPPFLAGS=\"-I/usr/local/opt/gettext/include\"\n",
      "\n",
      "\u001b[34m==>\u001b[0m \u001b[1mSummary\u001b[0m\n",
      "🍺  /usr/local/Cellar/gettext/0.20.1: 1,899 files, 18.5MB\n",
      "\u001b[32m==>\u001b[0m \u001b[1mInstalling wget dependency: \u001b[32mlibunistring\u001b[39m\u001b[0m\n",
      "\u001b[34m==>\u001b[0m \u001b[1mDownloading https://homebrew.bintray.com/bottles/libunistring-0.9.10.mojave.\u001b[0m\n",
      "\u001b[34m==>\u001b[0m \u001b[1mDownloading from https://akamai.bintray.com/1d/1d0c8e266acddcebeef3d9f6162d6\u001b[0m\n",
      "######################################################################## 100.0%\n",
      "\u001b[34m==>\u001b[0m \u001b[1mPouring libunistring-0.9.10.mojave.bottle.tar.gz\u001b[0m\n",
      "🍺  /usr/local/Cellar/libunistring/0.9.10: 54 files, 4.4MB\n",
      "\u001b[32m==>\u001b[0m \u001b[1mInstalling wget dependency: \u001b[32mlibidn2\u001b[39m\u001b[0m\n",
      "\u001b[34m==>\u001b[0m \u001b[1mDownloading https://homebrew.bintray.com/bottles/libidn2-2.2.0_1.mojave.bott\u001b[0m\n",
      "\u001b[34m==>\u001b[0m \u001b[1mDownloading from https://akamai.bintray.com/96/96e9b127a4123a1a4ec67f849467b\u001b[0m\n",
      "######################################################################## 100.0%\n",
      "\u001b[34m==>\u001b[0m \u001b[1mPouring libidn2-2.2.0_1.mojave.bottle.tar.gz\u001b[0m\n",
      "🍺  /usr/local/Cellar/libidn2/2.2.0_1: 70 files, 700.9KB\n",
      "\u001b[32m==>\u001b[0m \u001b[1mInstalling wget dependency: \u001b[32mopenssl\u001b[39m\u001b[0m\n",
      "\u001b[34m==>\u001b[0m \u001b[1mDownloading https://homebrew.bintray.com/bottles/openssl-1.0.2s.mojave.bottl\u001b[0m\n",
      "\u001b[34m==>\u001b[0m \u001b[1mDownloading from https://akamai.bintray.com/c4/c4a762d719c2be74ac686f1aafabb\u001b[0m\n",
      "######################################################################## 100.0%\n",
      "\u001b[34m==>\u001b[0m \u001b[1mPouring openssl-1.0.2s.mojave.bottle.tar.gz\u001b[0m\n",
      "\u001b[34m==>\u001b[0m \u001b[1mCaveats\u001b[0m\n",
      "A CA file has been bootstrapped using certificates from the SystemRoots\n",
      "keychain. To add additional certificates (e.g. the certificates added in\n",
      "the System keychain), place .pem files in\n",
      "  /usr/local/etc/openssl/certs\n",
      "\n",
      "and run\n",
      "  /usr/local/opt/openssl/bin/c_rehash\n",
      "\n",
      "openssl is keg-only, which means it was not symlinked into /usr/local,\n",
      "because Apple has deprecated use of OpenSSL in favor of its own TLS and crypto libraries.\n",
      "\n",
      "If you need to have openssl first in your PATH run:\n",
      "  echo 'export PATH=\"/usr/local/opt/openssl/bin:$PATH\"' >> ~/.bash_profile\n",
      "\n",
      "For compilers to find openssl you may need to set:\n",
      "  export LDFLAGS=\"-L/usr/local/opt/openssl/lib\"\n",
      "  export CPPFLAGS=\"-I/usr/local/opt/openssl/include\"\n",
      "\n",
      "\u001b[34m==>\u001b[0m \u001b[1mSummary\u001b[0m\n",
      "🍺  /usr/local/Cellar/openssl/1.0.2s: 1,795 files, 12.0MB\n",
      "\u001b[32m==>\u001b[0m \u001b[1mInstalling \u001b[32mwget\u001b[39m\u001b[0m\n",
      "\u001b[34m==>\u001b[0m \u001b[1mDownloading https://homebrew.bintray.com/bottles/wget-1.20.3_1.mojave.bottle\u001b[0m\n",
      "\u001b[34m==>\u001b[0m \u001b[1mDownloading from https://akamai.bintray.com/96/96a58c26308afae033e6d6325e7af\u001b[0m\n",
      "######################################################################## 100.0%\n",
      "\u001b[34m==>\u001b[0m \u001b[1mPouring wget-1.20.3_1.mojave.bottle.tar.gz\u001b[0m\n",
      "🍺  /usr/local/Cellar/wget/1.20.3_1: 49 files, 4.0MB\n",
      "\u001b[32m==>\u001b[0m \u001b[1mCaveats\u001b[0m\n",
      "\u001b[34m==>\u001b[0m \u001b[1mgettext\u001b[0m\n",
      "gettext is keg-only, which means it was not symlinked into /usr/local,\n",
      "because macOS provides the BSD gettext library & some software gets confused if both are in the library path.\n",
      "\n",
      "If you need to have gettext first in your PATH run:\n",
      "  echo 'export PATH=\"/usr/local/opt/gettext/bin:$PATH\"' >> ~/.bash_profile\n",
      "\n",
      "For compilers to find gettext you may need to set:\n",
      "  export LDFLAGS=\"-L/usr/local/opt/gettext/lib\"\n",
      "  export CPPFLAGS=\"-I/usr/local/opt/gettext/include\"\n",
      "\n",
      "\u001b[34m==>\u001b[0m \u001b[1mopenssl\u001b[0m\n",
      "A CA file has been bootstrapped using certificates from the SystemRoots\n",
      "keychain. To add additional certificates (e.g. the certificates added in\n",
      "the System keychain), place .pem files in\n",
      "  /usr/local/etc/openssl/certs\n",
      "\n",
      "and run\n",
      "  /usr/local/opt/openssl/bin/c_rehash\n",
      "\n",
      "openssl is keg-only, which means it was not symlinked into /usr/local,\n",
      "because Apple has deprecated use of OpenSSL in favor of its own TLS and crypto libraries.\n",
      "\n",
      "If you need to have openssl first in your PATH run:\n",
      "  echo 'export PATH=\"/usr/local/opt/openssl/bin:$PATH\"' >> ~/.bash_profile\n",
      "\n",
      "For compilers to find openssl you may need to set:\n",
      "  export LDFLAGS=\"-L/usr/local/opt/openssl/lib\"\n",
      "  export CPPFLAGS=\"-I/usr/local/opt/openssl/include\"\n",
      "\n"
     ]
    }
   ],
   "source": [
    "!brew install wget"
   ]
  },
  {
   "cell_type": "code",
   "execution_count": 3,
   "metadata": {},
   "outputs": [
    {
     "name": "stdout",
     "output_type": "stream",
     "text": [
      "--2019-06-28 13:47:02--  https://aqua.kingcounty.gov/extranet/assessor/Real%20Property%20Sales.zip\n",
      "Resolving aqua.kingcounty.gov (aqua.kingcounty.gov)... 146.129.240.28\n",
      "Connecting to aqua.kingcounty.gov (aqua.kingcounty.gov)|146.129.240.28|:443... connected.\n",
      "HTTP request sent, awaiting response... 200 OK\n",
      "Length: 124486612 (119M) [application/x-zip-compressed]\n",
      "Saving to: ‘raw_data/Real Property Sales.zip’\n",
      "\n",
      "Real Property Sales 100%[===================>] 118.72M  3.28MB/s    in 44s     \n",
      "\n",
      "2019-06-28 13:47:46 (2.70 MB/s) - ‘raw_data/Real Property Sales.zip’ saved [124486612/124486612]\n",
      "\n"
     ]
    }
   ],
   "source": [
    "!wget https://aqua.kingcounty.gov/extranet/assessor/Real%20Property%20Sales.zip -P raw_data/"
   ]
  },
  {
   "cell_type": "markdown",
   "metadata": {},
   "source": [
    "Let's inspect the contents of `raw_data` to verify that we have the data"
   ]
  },
  {
   "cell_type": "code",
   "execution_count": 4,
   "metadata": {},
   "outputs": [
    {
     "name": "stdout",
     "output_type": "stream",
     "text": [
      "total 262208\r\n",
      "-rw-r--r--  1 flatironschool  staff  124486612 Jun 22 01:18 Real Property Sales.zip\r\n"
     ]
    }
   ],
   "source": [
    "!ls -l raw_data/"
   ]
  },
  {
   "cell_type": "markdown",
   "metadata": {},
   "source": [
    "### Unzip `raw_data/Real Property Sales.zip`\n",
    "\n",
    "Currently the data lives in a [`.zip`](http://cvs.bio.unc.edu/protocol/unzip-help/unzip-help.htm) file, which is essentially a layer that contains the actual data.\n",
    "\n",
    "To extract - or unpeel - the contents within the `.zip` file, we'll use the [`unzip`](https://formulae.brew.sh/formula/unzip) command. \n",
    "\n",
    "By specifying `-d raw_data/`, we're telling `unzip` to place the contents of `raw_data/Real Property Sales.zip` inside the `raw_data/` directory.\n",
    "\n",
    "*If you don't have `unzip`, uncomment the cell below to have `brew` install it for you.*"
   ]
  },
  {
   "cell_type": "code",
   "execution_count": 5,
   "metadata": {},
   "outputs": [
    {
     "name": "stdout",
     "output_type": "stream",
     "text": [
      "\u001b[34m==>\u001b[0m \u001b[1mDownloading https://homebrew.bintray.com/bottles/unzip-6.0_4.mojave.bottle.t\u001b[0m\n",
      "######################################################################## 100.0%\n",
      "\u001b[34m==>\u001b[0m \u001b[1mPouring unzip-6.0_4.mojave.bottle.tar.gz\u001b[0m\n",
      "\u001b[34m==>\u001b[0m \u001b[1mCaveats\u001b[0m\n",
      "unzip is keg-only, which means it was not symlinked into /usr/local,\n",
      "because macOS already provides this software and installing another version in\n",
      "parallel can cause all kinds of trouble.\n",
      "\n",
      "If you need to have unzip first in your PATH run:\n",
      "  echo 'export PATH=\"/usr/local/opt/unzip/bin:$PATH\"' >> ~/.bash_profile\n",
      "\n",
      "\u001b[34m==>\u001b[0m \u001b[1mSummary\u001b[0m\n",
      "🍺  /usr/local/Cellar/unzip/6.0_4: 15 files, 490.1KB\n"
     ]
    }
   ],
   "source": [
    "!brew install unzip\n"
   ]
  },
  {
   "cell_type": "code",
   "execution_count": 6,
   "metadata": {},
   "outputs": [
    {
     "name": "stdout",
     "output_type": "stream",
     "text": [
      "Archive:  raw_data/Real Property Sales.zip\n",
      "  inflating: raw_data/EXTR_RPSale.csv  \n"
     ]
    }
   ],
   "source": [
    "!unzip raw_data/Real\\ Property\\ Sales.zip -d raw_data/"
   ]
  },
  {
   "cell_type": "markdown",
   "metadata": {},
   "source": [
    "After unzipping `raw_data/Real Property Sales.zip`, we now have access to the `raw_data/EXTR_RPSale.csv`."
   ]
  },
  {
   "cell_type": "code",
   "execution_count": 7,
   "metadata": {},
   "outputs": [
    {
     "name": "stdout",
     "output_type": "stream",
     "text": [
      "total 1337024\r\n",
      "-rw-r--r--  1 flatironschool  staff  537813995 Jun 21 18:36 EXTR_RPSale.csv\r\n",
      "-rw-r--r--  1 flatironschool  staff  124486612 Jun 22 01:18 Real Property Sales.zip\r\n"
     ]
    }
   ],
   "source": [
    "!ls -l raw_data/"
   ]
  },
  {
   "cell_type": "markdown",
   "metadata": {},
   "source": [
    "## Load necessary data\n",
    "\n",
    "> The `csv` module implements classes to read and write tabular data in CSV format. It allows programmers to say, “write this data in the format preferred by Excel,” or “read data from this file which was generated by Excel,” without knowing the precise details of the CSV format used by Excel. - [`csv` documentation](https://docs.python.org/3/library/csv.html)\n",
    "\n",
    "### Using the `csv` library\n",
    "\n",
    "The `csv` library contains objects and other code to read, write, and process data from and to CSV files. Essentially, we want to read each row in the `.csv` file and stores its information for later use. \n",
    "\n",
    "\n",
    "### How `csv` works\n",
    "\n",
    "The [`csv.DictReader()`](https://docs.python.org/3/library/csv.html#csv.DictReader) function creates an object that operates like a regular reader - where information is returned as [strings](https://docs.python.org/3.7/library/stdtypes.html#text-sequence-type-str) - but maps the information in each row to an [OrderedDict](https://docs.python.org/3/library/collections.html#collections.OrderedDict) whose keys are given by the optional `fieldnames` parameter. If `fieldnames` is omitted, the values in the first row of file f will be used as the fieldnames.\n",
    "\n",
    "Since each row is an `OrderedDict` object, we know that information in each dictionary will be in the same order as they appear within the `.csv` file.\n",
    "\n",
    "### Inspect the first two rows in the `raw_data/EXTR_RPSale.csv` file"
   ]
  },
  {
   "cell_type": "code",
   "execution_count": 8,
   "metadata": {},
   "outputs": [
    {
     "name": "stdout",
     "output_type": "stream",
     "text": [
      "\"ExciseTaxNbr\",\"Major\",\"Minor\",\"DocumentDate\",\"SalePrice\",\"RecordingNbr\",\"Volume\",\"Page\",\"PlatNbr\",\"PlatType\",\"PlatLot\",\"PlatBlock\",\"SellerName\",\"BuyerName\",\"PropertyType\",\"PrincipalUse\",\"SaleInstrument\",\"AFForestLand\",\"AFCurrentUseLand\",\"AFNonProfitUse\",\"AFHistoricProperty\",\"SaleReason\",\"PropertyClass\",\"SaleWarning\"\r",
      "\r\n",
      "\"2671216\",\"098400\",\"0380\",\"04/02/2014\",\"0\",\"20140602000186\",\"   \",\"   \",\"      \",\" \",\"              \",\"       \",\"DWORSHAK LYNDEE MARIE                             \",\"DWORSHAK MICHAEL J                                \",\"3\",\"6\",\"15\",\"N\",\"N\",\"N\",\"N\",\"11\",\"8\",\"18 31 38\"\r",
      "\r\n"
     ]
    }
   ],
   "source": [
    "!head -n 2 raw_data/EXTR_RPSale.csv\n"
   ]
  },
  {
   "cell_type": "markdown",
   "metadata": {},
   "source": [
    "Now that we know that the first row is the column headers, we can safely omit the `fieldnames` parameter knowing that `csv.DictReader()` will use the first row as the keys within each row."
   ]
  },
  {
   "cell_type": "code",
   "execution_count": 12,
   "metadata": {},
   "outputs": [],
   "source": [
    "import csv\n",
    "\n",
    "sales = []\n",
    "with open('raw_data/EXTR_RPSale.csv') as csvfile:\n",
    "    reader = csv.DictReader(csvfile)\n",
    "    for row in reader:\n",
    "        sales.append(row)"
   ]
  },
  {
   "cell_type": "markdown",
   "metadata": {},
   "source": [
    "The contents of `sales[0]` is exactly the same as it was when we viewed the first two records of the `raw_data/EXTR_RPSale.csv` file from the command line."
   ]
  },
  {
   "cell_type": "code",
   "execution_count": 11,
   "metadata": {},
   "outputs": [
    {
     "data": {
      "text/plain": [
       "OrderedDict([('ExciseTaxNbr', '2671216'),\n",
       "             ('Major', '098400'),\n",
       "             ('Minor', '0380'),\n",
       "             ('DocumentDate', '04/02/2014'),\n",
       "             ('SalePrice', '0'),\n",
       "             ('RecordingNbr', '20140602000186'),\n",
       "             ('Volume', '   '),\n",
       "             ('Page', '   '),\n",
       "             ('PlatNbr', '      '),\n",
       "             ('PlatType', ' '),\n",
       "             ('PlatLot', '              '),\n",
       "             ('PlatBlock', '       '),\n",
       "             ('SellerName',\n",
       "              'DWORSHAK LYNDEE MARIE                             '),\n",
       "             ('BuyerName',\n",
       "              'DWORSHAK MICHAEL J                                '),\n",
       "             ('PropertyType', '3'),\n",
       "             ('PrincipalUse', '6'),\n",
       "             ('SaleInstrument', '15'),\n",
       "             ('AFForestLand', 'N'),\n",
       "             ('AFCurrentUseLand', 'N'),\n",
       "             ('AFNonProfitUse', 'N'),\n",
       "             ('AFHistoricProperty', 'N'),\n",
       "             ('SaleReason', '11'),\n",
       "             ('PropertyClass', '8'),\n",
       "             ('SaleWarning', '18 31 38')])"
      ]
     },
     "execution_count": 11,
     "metadata": {},
     "output_type": "execute_result"
    }
   ],
   "source": [
    "sales[0]"
   ]
  },
  {
   "cell_type": "markdown",
   "metadata": {},
   "source": [
    "## Data Analysis\n",
    "\n",
    "Now that you have all the property sales data from King County, WA within the list `sales`, you can finally start to perform some data analysis."
   ]
  },
  {
   "cell_type": "markdown",
   "metadata": {},
   "source": [
    "### 1. For each year, how many houses were sold?"
   ]
  },
  {
   "cell_type": "markdown",
   "metadata": {},
   "source": [
    "Anytime you encounter questions regarding time, you need to know if your data is in [`datetime`](https://docs.python.org/3.7/library/datetime.html) format. `datetime` objects make it easy to date and time calculation."
   ]
  },
  {
   "cell_type": "code",
   "execution_count": 13,
   "metadata": {},
   "outputs": [],
   "source": [
    "from datetime import datetime"
   ]
  },
  {
   "cell_type": "code",
   "execution_count": 14,
   "metadata": {},
   "outputs": [],
   "source": [
    "for sale in sales:\n",
    "    # transform DocumentDate from string to datetime\n",
    "    sale[\"clean_date\"] = datetime.strptime(sale[\"DocumentDate\"], \n",
    "                                           \"%m/%d/%Y\")\n",
    "    # store the sale year and month\n",
    "    sale[\"sale_year\"] = sale[\"clean_date\"].year\n",
    "    sale[\"sale_month\"] = sale[\"clean_date\"].month"
   ]
  },
  {
   "cell_type": "markdown",
   "metadata": {},
   "source": [
    "Let's inspect our work"
   ]
  },
  {
   "cell_type": "code",
   "execution_count": 46,
   "metadata": {},
   "outputs": [
    {
     "data": {
      "text/plain": [
       "datetime.datetime(2012, 2, 7, 0, 0)"
      ]
     },
     "execution_count": 46,
     "metadata": {},
     "output_type": "execute_result"
    }
   ],
   "source": [
    "sale"
   ]
  },
  {
   "cell_type": "markdown",
   "metadata": {},
   "source": [
    "## For all dictionaries in `sales`, we want to count how many property sales occured in each year. Since the value in `sale_year` is an integer, we can used Python's built-in [`sorted`](https://docs.python.org/3/library/functions.html#sorted) function to transform the `Counter` object into a `list` of `tuples` - `(year, count)` which are sorted in ascending order by year."
   ]
  },
  {
   "cell_type": "code",
   "execution_count": 16,
   "metadata": {},
   "outputs": [
    {
     "data": {
      "text/plain": [
       "[(1900, 1),\n",
       " (1934, 1),\n",
       " (1951, 1),\n",
       " (1953, 1),\n",
       " (1954, 9),\n",
       " (1955, 3),\n",
       " (1956, 1),\n",
       " (1957, 3),\n",
       " (1958, 1),\n",
       " (1959, 4),\n",
       " (1960, 10),\n",
       " (1961, 5),\n",
       " (1962, 5),\n",
       " (1963, 9),\n",
       " (1964, 20),\n",
       " (1965, 11),\n",
       " (1966, 12),\n",
       " (1967, 18),\n",
       " (1968, 9),\n",
       " (1969, 20),\n",
       " (1970, 17),\n",
       " (1971, 14),\n",
       " (1972, 27),\n",
       " (1973, 45),\n",
       " (1974, 35),\n",
       " (1975, 43),\n",
       " (1976, 62),\n",
       " (1977, 97),\n",
       " (1978, 103),\n",
       " (1979, 124),\n",
       " (1980, 186),\n",
       " (1981, 408),\n",
       " (1982, 6035),\n",
       " (1983, 8607),\n",
       " (1984, 9199),\n",
       " (1985, 10557),\n",
       " (1986, 14627),\n",
       " (1987, 13575),\n",
       " (1988, 14190),\n",
       " (1989, 17232),\n",
       " (1990, 16606),\n",
       " (1991, 17524),\n",
       " (1992, 67859),\n",
       " (1993, 69455),\n",
       " (1994, 64912),\n",
       " (1995, 57980),\n",
       " (1996, 63652),\n",
       " (1997, 72090),\n",
       " (1998, 79578),\n",
       " (1999, 75233),\n",
       " (2000, 69874),\n",
       " (2001, 71259),\n",
       " (2002, 77028),\n",
       " (2003, 86299),\n",
       " (2004, 89382),\n",
       " (2005, 93481),\n",
       " (2006, 84725),\n",
       " (2007, 73246),\n",
       " (2008, 51796),\n",
       " (2009, 52383),\n",
       " (2010, 54670),\n",
       " (2011, 56170),\n",
       " (2012, 62438),\n",
       " (2013, 69395),\n",
       " (2014, 64243),\n",
       " (2015, 68891),\n",
       " (2016, 70388),\n",
       " (2017, 68359),\n",
       " (2018, 60822),\n",
       " (2019, 23765),\n",
       " (2021, 1)]"
      ]
     },
     "execution_count": 16,
     "metadata": {},
     "output_type": "execute_result"
    }
   ],
   "source": [
    "from collections import Counter\n",
    "\n",
    "sale_year_count = Counter([sale['sale_year'] for sale in sales])\n",
    "sale_year_count = sorted(sale_year_count.items())\n",
    "sale_year_count"
   ]
  },
  {
   "cell_type": "markdown",
   "metadata": {},
   "source": [
    "This `list` of `tuples` is not something our employers can use to make a decision. Before we visualize the results, let's create a new `visuals` folder that will store all of our visuals."
   ]
  },
  {
   "cell_type": "code",
   "execution_count": 17,
   "metadata": {},
   "outputs": [],
   "source": [
    "!mkdir visuals"
   ]
  },
  {
   "cell_type": "code",
   "execution_count": 63,
   "metadata": {},
   "outputs": [
    {
     "name": "stderr",
     "output_type": "stream",
     "text": [
      "/Users/flatironschool/anaconda3/envs/learn-env/lib/python3.6/site-packages/IPython/core/interactiveshell.py:2785: DtypeWarning: Columns (1,2) have mixed types. Specify dtype option on import or set low_memory=False.\n",
      "  interactivity=interactivity, compiler=compiler, result=result)\n"
     ]
    }
   ],
   "source": [
    "from matplotlib import pyplot as plt\n",
    "import pandas as pd\n",
    "import numpy as np\n",
    "df = pd.read_csv('raw_data/EXTR_RPSale.csv')"
   ]
  },
  {
   "cell_type": "code",
   "execution_count": 19,
   "metadata": {},
   "outputs": [
    {
     "data": {
      "image/png": "[encoded data removed]",
      "text/plain": [
       "<Figure size 432x288 with 1 Axes>"
      ]
     },
     "metadata": {
      "needs_background": "light"
     },
     "output_type": "display_data"
    }
   ],
   "source": [
    "plt.bar(x=[sale[0] for sale in sale_year_count],\n",
    "        height=[sale[1] for sale in sale_year_count])\n",
    "plt.xlabel(\"Year\")\n",
    "plt.ylabel(\"Number of property sales\")\n",
    "plt.title(\"Property sales in King County, WA (1900 to 2021)\")\n",
    "plt.savefig(\"visuals/raw_sales_count_by_year.png\",\n",
    "            dpi=150)\n",
    "plt.show()"
   ]
  },
  {
   "cell_type": "markdown",
   "metadata": {},
   "source": [
    "By the looks of our number of property sales over time bar plot, it looks like property sales in King County, WA started taking off in the 1980s. They continued climbing into the early 2000s. Despite the recession reducing the number of home sales in the late 2000s, it looks like they are continuing to climb."
   ]
  },
  {
   "cell_type": "markdown",
   "metadata": {},
   "source": [
    "### 2. After removing the one record that took place in 2021, what is the average [nominal](https://www.stlouisfed.org/publications/inside-the-vault/fall-2007/nominal-vs-real-oil-prices) property sales price in King County, WA?"
   ]
  },
  {
   "cell_type": "code",
   "execution_count": 135,
   "metadata": {},
   "outputs": [
    {
     "data": {
      "text/plain": [
       "['ExciseTaxNbr',\n",
       " 'Major',\n",
       " 'Minor',\n",
       " 'DocumentDate',\n",
       " 'SalePrice',\n",
       " 'RecordingNbr',\n",
       " 'Volume',\n",
       " 'Page',\n",
       " 'PlatNbr',\n",
       " 'PlatType',\n",
       " 'PlatLot',\n",
       " 'PlatBlock',\n",
       " 'SellerName',\n",
       " 'BuyerName',\n",
       " 'PropertyType',\n",
       " 'PrincipalUse',\n",
       " 'SaleInstrument',\n",
       " 'AFForestLand',\n",
       " 'AFCurrentUseLand',\n",
       " 'AFNonProfitUse',\n",
       " 'AFHistoricProperty',\n",
       " 'SaleReason',\n",
       " 'PropertyClass',\n",
       " 'SaleWarning']"
      ]
     },
     "execution_count": 135,
     "metadata": {},
     "output_type": "execute_result"
    }
   ],
   "source": [
    "list(df.head())"
   ]
  },
  {
   "cell_type": "code",
   "execution_count": 121,
   "metadata": {},
   "outputs": [
    {
     "data": {
      "text/plain": [
       "591399.154256318"
      ]
     },
     "execution_count": 121,
     "metadata": {},
     "output_type": "execute_result"
    }
   ],
   "source": [
    "df['SalePrice'].mean()"
   ]
  },
  {
   "cell_type": "code",
   "execution_count": 77,
   "metadata": {},
   "outputs": [
    {
     "ename": "AttributeError",
     "evalue": "'Series' object has no attribute 't'",
     "output_type": "error",
     "traceback": [
      "\u001b[0;31m---------------------------------------------------------------------------\u001b[0m",
      "\u001b[0;31mAttributeError\u001b[0m                            Traceback (most recent call last)",
      "\u001b[0;32m<ipython-input-77-153baa52ec75>\u001b[0m in \u001b[0;36m<module>\u001b[0;34m()\u001b[0m\n\u001b[1;32m      1\u001b[0m \u001b[0;34m\u001b[0m\u001b[0m\n\u001b[1;32m      2\u001b[0m \u001b[0;34m\u001b[0m\u001b[0m\n\u001b[0;32m----> 3\u001b[0;31m \u001b[0mdf\u001b[0m\u001b[0;34m[\u001b[0m\u001b[0;34m'year'\u001b[0m\u001b[0;34m]\u001b[0m \u001b[0;34m=\u001b[0m \u001b[0mdf\u001b[0m\u001b[0;34m[\u001b[0m\u001b[0;34m'DocumentDate'\u001b[0m\u001b[0;34m]\u001b[0m\u001b[0;34m.\u001b[0m\u001b[0mt\u001b[0m\u001b[0;34m.\u001b[0m\u001b[0myear\u001b[0m\u001b[0;34m\u001b[0m\u001b[0m\n\u001b[0m\u001b[1;32m      4\u001b[0m \u001b[0mdf\u001b[0m\u001b[0;34m[\u001b[0m\u001b[0;34m'month'\u001b[0m\u001b[0;34m]\u001b[0m \u001b[0;34m=\u001b[0m \u001b[0mdf\u001b[0m\u001b[0;34m[\u001b[0m\u001b[0;34m'DocumentDate'\u001b[0m\u001b[0;34m]\u001b[0m\u001b[0;34m.\u001b[0m\u001b[0mt\u001b[0m\u001b[0;34m.\u001b[0m\u001b[0mmonth\u001b[0m\u001b[0;34m\u001b[0m\u001b[0m\n\u001b[1;32m      5\u001b[0m \u001b[0mdf\u001b[0m\u001b[0;34m[\u001b[0m\u001b[0;34m'day'\u001b[0m\u001b[0;34m]\u001b[0m \u001b[0;34m=\u001b[0m \u001b[0mdf\u001b[0m\u001b[0;34m[\u001b[0m\u001b[0;34m'DocumentDate'\u001b[0m\u001b[0;34m]\u001b[0m\u001b[0;34m.\u001b[0m\u001b[0mt\u001b[0m\u001b[0;34m.\u001b[0m\u001b[0mday\u001b[0m\u001b[0;34m\u001b[0m\u001b[0m\n",
      "\u001b[0;32m~/anaconda3/envs/learn-env/lib/python3.6/site-packages/pandas/core/generic.py\u001b[0m in \u001b[0;36m__getattr__\u001b[0;34m(self, name)\u001b[0m\n\u001b[1;32m   4374\u001b[0m             \u001b[0;32mif\u001b[0m \u001b[0mself\u001b[0m\u001b[0;34m.\u001b[0m\u001b[0m_info_axis\u001b[0m\u001b[0;34m.\u001b[0m\u001b[0m_can_hold_identifiers_and_holds_name\u001b[0m\u001b[0;34m(\u001b[0m\u001b[0mname\u001b[0m\u001b[0;34m)\u001b[0m\u001b[0;34m:\u001b[0m\u001b[0;34m\u001b[0m\u001b[0m\n\u001b[1;32m   4375\u001b[0m                 \u001b[0;32mreturn\u001b[0m \u001b[0mself\u001b[0m\u001b[0;34m[\u001b[0m\u001b[0mname\u001b[0m\u001b[0;34m]\u001b[0m\u001b[0;34m\u001b[0m\u001b[0m\n\u001b[0;32m-> 4376\u001b[0;31m             \u001b[0;32mreturn\u001b[0m \u001b[0mobject\u001b[0m\u001b[0;34m.\u001b[0m\u001b[0m__getattribute__\u001b[0m\u001b[0;34m(\u001b[0m\u001b[0mself\u001b[0m\u001b[0;34m,\u001b[0m \u001b[0mname\u001b[0m\u001b[0;34m)\u001b[0m\u001b[0;34m\u001b[0m\u001b[0m\n\u001b[0m\u001b[1;32m   4377\u001b[0m \u001b[0;34m\u001b[0m\u001b[0m\n\u001b[1;32m   4378\u001b[0m     \u001b[0;32mdef\u001b[0m \u001b[0m__setattr__\u001b[0m\u001b[0;34m(\u001b[0m\u001b[0mself\u001b[0m\u001b[0;34m,\u001b[0m \u001b[0mname\u001b[0m\u001b[0;34m,\u001b[0m \u001b[0mvalue\u001b[0m\u001b[0;34m)\u001b[0m\u001b[0;34m:\u001b[0m\u001b[0;34m\u001b[0m\u001b[0m\n",
      "\u001b[0;31mAttributeError\u001b[0m: 'Series' object has no attribute 't'"
     ]
    }
   ],
   "source": [
    "df['year'] = df['DocumentDate'].year \n",
    "df['month'] = df['DocumentDate'].month \n",
    "df['day'] = df['DocumentDate'].day "
   ]
  },
  {
   "cell_type": "code",
   "execution_count": 113,
   "metadata": {},
   "outputs": [],
   "source": []
  },
  {
   "cell_type": "code",
   "execution_count": 114,
   "metadata": {},
   "outputs": [
    {
     "data": {
      "text/plain": [
       "13317"
      ]
     },
     "execution_count": 114,
     "metadata": {},
     "output_type": "execute_result"
    }
   ],
   "source": []
  },
  {
   "cell_type": "code",
   "execution_count": 57,
   "metadata": {},
   "outputs": [
    {
     "data": {
      "text/plain": [
       "[(1900, 1), (1934, 1)]"
      ]
     },
     "execution_count": 57,
     "metadata": {},
     "output_type": "execute_result"
    }
   ],
   "source": [
    "sale_year_count"
   ]
  },
  {
   "cell_type": "markdown",
   "metadata": {},
   "source": [
    "### 3. Which property has been sold the most in King County, WA throughout time?\n",
    "\n",
    "This questions requires you to create a <strong>P</strong>arcel <strong>I</strong>dentification <strong>N</strong>umber (PIN). To learn how to do this, read the \"Attribute Information\" section on the Parcel webpage from the [King County Geographic Information System (KCGI)](https://www5.kingcounty.gov/sdc/Metadata.aspx?Layer=parcel)."
   ]
  },
  {
   "cell_type": "code",
   "execution_count": 129,
   "metadata": {},
   "outputs": [
    {
     "data": {
      "text/plain": [
       "2639648    689\n",
       "2673898    685\n",
       "866727     678\n",
       "2003154    274\n",
       "2003168    267\n",
       "1610536    244\n",
       "2582042    228\n",
       "2590623    228\n",
       "2173615    226\n",
       "2173618    226\n",
       "2075480    225\n",
       "2075482    225\n",
       "1958718    223\n",
       "2472981    217\n",
       "2340585    212\n",
       "2254910    207\n",
       "2254901    207\n",
       "1342560    204\n",
       "2665724    204\n",
       "1947128    204\n",
       "1544280    204\n",
       "2674515    203\n",
       "2493167    201\n",
       "2089958    199\n",
       "2089957    199\n",
       "2617721    198\n",
       "2089947    197\n",
       "2985982    197\n",
       "1862077    193\n",
       "862188     191\n",
       "          ... \n",
       "2429416      1\n",
       "2425322      1\n",
       "2367950      1\n",
       "2374093      1\n",
       "2372044      1\n",
       "2361803      1\n",
       "2607539      1\n",
       "2617780      1\n",
       "2619829      1\n",
       "2613686      1\n",
       "2615735      1\n",
       "2593208      1\n",
       "2595257      1\n",
       "2589114      1\n",
       "2591163      1\n",
       "2601404      1\n",
       "2603453      1\n",
       "2597310      1\n",
       "2599359      1\n",
       "2380224      1\n",
       "2382273      1\n",
       "2376130      1\n",
       "2378179      1\n",
       "2388420      1\n",
       "2390469      1\n",
       "2384326      1\n",
       "2363848      1\n",
       "2365897      1\n",
       "2359754      1\n",
       "692562       1\n",
       "Name: ExciseTaxNbr, Length: 1852877, dtype: int64"
      ]
     },
     "execution_count": 129,
     "metadata": {},
     "output_type": "execute_result"
    }
   ],
   "source": [
    "df['ExciseTaxNbr'].value_counts()"
   ]
  },
  {
   "cell_type": "markdown",
   "metadata": {},
   "source": [
    "### 4. Who are the top 5 sellers in terms of who has sold the most property in King County, WA throughout time?"
   ]
  },
  {
   "cell_type": "code",
   "execution_count": 143,
   "metadata": {},
   "outputs": [
    {
     "data": {
      "text/plain": [
       "NORTHWEST TRUSTEE SERVICES INC                        13317\n",
       "QUADRANT CORPORATION                                   5416\n",
       "SSHI LLC                                               4007\n",
       "CENTEX HOMES                                           3087\n",
       "FEDERAL NATIONAL MORTGAGE ASSOCIATION                  2884\n",
       "Name: SellerName, dtype: int64"
      ]
     },
     "execution_count": 143,
     "metadata": {},
     "output_type": "execute_result"
    }
   ],
   "source": [
    "seller = df['SellerName'].value_counts()\n",
    "seller.head(5)"
   ]
  },
  {
   "cell_type": "markdown",
   "metadata": {},
   "source": [
    "### 5. From 2009 to 2019, which buyer has bought the most property in King County, WA?"
   ]
  },
  {
   "cell_type": "code",
   "execution_count": 142,
   "metadata": {},
   "outputs": [
    {
     "data": {
      "text/plain": [
       "KING COUNTY                                           4490\n",
       "FEDERAL NATIONAL MORTGAGE ASSOCIATION                 3511\n",
       "SEATTLE CITY OF                                       2824\n",
       "FEDERAL NATIONAL MORTGAGE ASSN                        2589\n",
       "QUADRANT CORPORATION                                  2119\n",
       "Name: BuyerName, dtype: int64"
      ]
     },
     "execution_count": 142,
     "metadata": {},
     "output_type": "execute_result"
    }
   ],
   "source": [
    "buyer = df['BuyerName'].value_counts()\n",
    "buyer.head(5)"
   ]
  },
  {
   "cell_type": "code",
   "execution_count": null,
   "metadata": {},
   "outputs": [],
   "source": []
  }
 ],
 "metadata": {
  "kernelspec": {
   "display_name": "Python 3",
   "language": "python",
   "name": "python3"
  },
  "language_info": {
   "codemirror_mode": {
    "name": "ipython",
    "version": 3
   },
   "file_extension": ".py",
   "mimetype": "text/x-python",
   "name": "python",
   "nbconvert_exporter": "python",
   "pygments_lexer": "ipython3",
   "version": "3.6.6"
  }
 },
 "nbformat": 4,
 "nbformat_minor": 2
}
